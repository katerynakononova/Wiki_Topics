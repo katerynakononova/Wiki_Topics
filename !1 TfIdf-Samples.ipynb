{
 "cells": [
  {
   "cell_type": "markdown",
   "metadata": {},
   "source": [
    "# TfIdf-Samples"
   ]
  },
  {
   "cell_type": "code",
   "execution_count": 1,
   "metadata": {},
   "outputs": [],
   "source": [
    "# Install\n",
    "#!pip install -r requirements.txt\n",
    "#pip install numpy==1.20.0\n",
    "#pip install pandas\n",
    "#pip install yellowbrick"
   ]
  },
  {
   "cell_type": "code",
   "execution_count": 2,
   "metadata": {},
   "outputs": [],
   "source": [
    "import numpy as np\n",
    "import pandas as pd\n",
    "import matplotlib.pyplot as plt\n",
    "import warnings\n",
    "warnings.filterwarnings('ignore')"
   ]
  },
  {
   "cell_type": "markdown",
   "metadata": {},
   "source": [
    "## Data"
   ]
  },
  {
   "cell_type": "code",
   "execution_count": 3,
   "metadata": {},
   "outputs": [
    {
     "name": "stdout",
     "output_type": "stream",
     "text": [
      "народитися дивитися категорія народитися грехема макферсон англійський співак джулія дрейфус американський актриса майя чибурданідзе грузинський шахістка уейн грецкий канадський хокеїст лютий геннадій куцак заслужений лютий вінс нейл американський співак лютий енді тейлор англійський музикант лютий коротаєв андрій віталійович історик філософ соціолог орієнталіст лютий джон американський музикант олена олексіївна яковлев російський кіноактриса лотар маттеус німецький футболіст олександр цекати співак василь радянський футболіст едді мерфі актор олександр заваров футболіст травень джей астон співак травень джордж клуня американський актор травень кемпбелл музикант травень денніс родмен американський баскетболіст травень англійський кіноактор травень томпсон актриса майкл фокс актор джордж англійський співак елісон співачка наталія марія петрівна фарина співачка сопрано педагог заслужений артистка\n"
     ]
    }
   ],
   "source": [
    "# Importing prepared dataset\n",
    "import pickle\n",
    "input = open('my_corpus.pql', 'rb')\n",
    "obj = pickle.load(input)\n",
    "input.close()\n",
    "\n",
    "corpus = obj['corpus']\n",
    "all_words = obj['all_words']\n",
    "print(corpus[1])"
   ]
  },
  {
   "cell_type": "markdown",
   "metadata": {},
   "source": [
    "## Splitting"
   ]
  },
  {
   "cell_type": "code",
   "execution_count": 4,
   "metadata": {
    "slideshow": {
     "slide_type": "slide"
    }
   },
   "outputs": [],
   "source": [
    "# Splitting the dataset into the Training set and Test set\n",
    "from sklearn.model_selection import train_test_split\n",
    "c1, c2 = train_test_split(corpus, test_size=0.5, random_state=10)"
   ]
  },
  {
   "cell_type": "code",
   "execution_count": 20,
   "metadata": {},
   "outputs": [],
   "source": [
    "# TfidfVectorizer\n",
    "from sklearn.feature_extraction.text import TfidfVectorizer\n",
    "#vectorizer = TfidfVectorizer(min_df=0.001, use_idf=True, ngram_range=(1,3))\n",
    "                            #max_df=0.8, max_features=10000\n",
    "tfidf_matrix1 = TfidfVectorizer(min_df=0.001, use_idf=True, ngram_range=(1,3)).fit_transform(c1)\n",
    "tfidf_matrix2 = TfidfVectorizer(min_df=0.001, use_idf=True, ngram_range=(1,3)).fit_transform(c2)\n",
    "#terms = vectorizer.get_feature_names()"
   ]
  },
  {
   "cell_type": "code",
   "execution_count": 6,
   "metadata": {},
   "outputs": [],
   "source": [
    "from sklearn.metrics.cluster import adjusted_rand_score\n",
    "from sklearn.metrics.cluster import homogeneity_score\n",
    "from sklearn.metrics.cluster import v_measure_score"
   ]
  },
  {
   "cell_type": "markdown",
   "metadata": {},
   "source": [
    "### Clusters descriptions"
   ]
  },
  {
   "cell_type": "code",
   "execution_count": 22,
   "metadata": {},
   "outputs": [],
   "source": [
    "from nltk import FreqDist"
   ]
  },
  {
   "cell_type": "code",
   "execution_count": 52,
   "metadata": {},
   "outputs": [],
   "source": [
    "def descriptions(name, labels, corpus):\n",
    "    # Reactions\n",
    "    posts = { 'corpus': corpus, 'cluster': labels }\n",
    "    posts = pd.DataFrame(posts)\n",
    "    words_from_clusters = posts.groupby(['cluster'])['corpus'].apply(lambda x: \"%s\" % ' '.join(x))\n",
    "    \n",
    "    names = []\n",
    "    for cluster in words_from_clusters:\n",
    "            words_freq = FreqDist(cluster.split(' '))\n",
    "            names.append(words_freq.most_common(3)[0][0])\n",
    "            #print('Cluster: ', cluster.title)\n",
    "            print('Most popular words: ', words_freq.most_common(3))\n",
    "            #print('Total number of unique words: ', len(words_freq))\n",
    "            #print('\\n')\n",
    "            \n",
    "    # Clusters cores\n",
    "    cores = pd.DataFrame({'names':names})\n",
    "    cores['shares'] = (posts.groupby(['cluster']).count()/len(labels)*100).round(2)\n",
    "    print(cores.sort_values(by=['shares'], ascending=False))"
   ]
  },
  {
   "cell_type": "code",
   "execution_count": 7,
   "metadata": {},
   "outputs": [],
   "source": [
    "def metrics(model1, model2):\n",
    "    rand = adjusted_rand_score(model1,model2).round(3)\n",
    "    homo = homogeneity_score(model1,model2).round(3)\n",
    "    vm = v_measure_score(model1,model2).round(3)\n",
    "    print(rand, homo, vm)"
   ]
  },
  {
   "cell_type": "markdown",
   "metadata": {},
   "source": [
    "# K-Means"
   ]
  },
  {
   "cell_type": "code",
   "execution_count": 8,
   "metadata": {},
   "outputs": [],
   "source": [
    "#!pip install clusteval"
   ]
  },
  {
   "cell_type": "code",
   "execution_count": 9,
   "metadata": {},
   "outputs": [],
   "source": [
    "# Number of Clusters\n",
    "k = 9"
   ]
  },
  {
   "cell_type": "code",
   "execution_count": 40,
   "metadata": {},
   "outputs": [
    {
     "name": "stdout",
     "output_type": "stream",
     "text": [
      "-0.0 0.009 0.009\n"
     ]
    }
   ],
   "source": [
    "# K-means clustering\n",
    "from sklearn.cluster import KMeans\n",
    "\n",
    "km10 = KMeans(n_clusters = k).fit(tfidf_matrix1)\n",
    "km11 = KMeans(n_clusters = k).fit(tfidf_matrix1)\n",
    "km2 = KMeans(n_clusters = k).fit(tfidf_matrix2)"
   ]
  },
  {
   "cell_type": "code",
   "execution_count": 43,
   "metadata": {},
   "outputs": [
    {
     "name": "stdout",
     "output_type": "stream",
     "text": [
      "0.523 0.553 0.543\n"
     ]
    }
   ],
   "source": [
    "# Comparing Clustering Algorithms\n",
    "metrics(km10.labels_.tolist(),km11.labels_.tolist())"
   ]
  },
  {
   "cell_type": "code",
   "execution_count": 56,
   "metadata": {},
   "outputs": [
    {
     "name": "stdout",
     "output_type": "stream",
     "text": [
      "-0.016 0.009 0.009\n"
     ]
    }
   ],
   "source": [
    "# Comparing Clustering Algorithms\n",
    "metrics(km10.labels_.tolist(),km2.labels_.tolist())"
   ]
  },
  {
   "cell_type": "code",
   "execution_count": 53,
   "metadata": {},
   "outputs": [
    {
     "name": "stdout",
     "output_type": "stream",
     "text": [
      "Most popular words:  [('повіт', 837), ('герб', 590), ('вулиця', 588)]\n",
      "Most popular words:  [('система', 374), ('орган', 305), ('організація', 300)]\n",
      "Most popular words:  [('місце', 517), ('сільський', 478), ('неуточнений', 477)]\n",
      "Most popular words:  [('олександр', 856), ('іван', 795), ('володимир', 742)]\n",
      "Most popular words:  [('найкращий', 562), ('фільм', 495), ('премія', 295)]\n",
      "Most popular words:  [('категорія', 1758), ('риби', 324), ('футболіст', 301)]\n",
      "Most popular words:  [('наука', 619), ('файл', 575), ('заслужений', 392)]\n",
      "Most popular words:  [('мова', 306), ('північний', 118), ('острів', 118)]\n",
      "Most popular words:  [('міністр', 475), ('жовтень', 352), ('травень', 287)]\n",
      "       names  shares\n",
      "2      місце   46.30\n",
      "3  олександр   13.96\n",
      "8    міністр   12.15\n",
      "1    система   11.37\n",
      "6      наука    6.57\n",
      "7       мова    2.72\n",
      "4  найкращий    2.59\n",
      "5  категорія    2.38\n",
      "0      повіт    1.95\n"
     ]
    }
   ],
   "source": [
    "descriptions('kmeans10', km10.labels_.tolist(), c1)"
   ]
  },
  {
   "cell_type": "code",
   "execution_count": 54,
   "metadata": {},
   "outputs": [
    {
     "name": "stdout",
     "output_type": "stream",
     "text": [
      "Most popular words:  [('категорія', 1758), ('риби', 324), ('футболіст', 301)]\n",
      "Most popular words:  [('місце', 424), ('право', 370), ('лівий', 345)]\n",
      "Most popular words:  [('найкращий', 578), ('фільм', 523), ('премія', 427)]\n",
      "Most popular words:  [('повіт', 837), ('герб', 330), ('прапор', 329)]\n",
      "Most popular words:  [('вулиця', 715), ('файл', 662), ('неуточнений', 500)]\n",
      "Most popular words:  [('міністр', 613), ('організація', 376), ('питання', 333)]\n",
      "Most popular words:  [('іван', 743), ('олександр', 723), ('микола', 663)]\n",
      "Most popular words:  [('жовтень', 362), ('мова', 315), ('травень', 273)]\n",
      "Most popular words:  [('наука', 509), ('заслужений', 404), ('письменник', 342)]\n",
      "       names  shares\n",
      "4     вулиця   46.13\n",
      "6       іван   11.50\n",
      "5    міністр   10.38\n",
      "1      місце    8.13\n",
      "2  найкращий    7.31\n",
      "8      наука    6.61\n",
      "7    жовтень    6.49\n",
      "0  категорія    2.38\n",
      "3      повіт    1.08\n"
     ]
    }
   ],
   "source": [
    "descriptions('kmeans11', km11.labels_.tolist(), c1)"
   ]
  },
  {
   "cell_type": "code",
   "execution_count": 55,
   "metadata": {},
   "outputs": [
    {
     "name": "stdout",
     "output_type": "stream",
     "text": [
      "Most popular words:  [('олександр', 787), ('микола', 647), ('володимир', 646)]\n",
      "Most popular words:  [('вулиця', 821), ('сільський', 707), ('будинок', 179)]\n",
      "Most popular words:  [('найкращий', 571), ('фільм', 567), ('премія', 480)]\n",
      "Most popular words:  [('мова', 1737), ('місце', 647), ('неуточнений', 528)]\n",
      "Most popular words:  [('лютий', 366), ('жовтень', 329), ('міністр', 311)]\n",
      "Most popular words:  [('наука', 661), ('питання', 342), ('технічний', 317)]\n",
      "Most popular words:  [('категорія', 1791), ('риби', 224), ('футболіст', 214)]\n",
      "Most popular words:  [('файл', 774), ('дивізія', 454), ('полк', 411)]\n",
      "Most popular words:  [('джон', 218), ('великий', 188), ('британія', 176)]\n",
      "       names  shares\n",
      "3       мова   48.55\n",
      "0  олександр   12.45\n",
      "5      наука   11.50\n",
      "8       джон    8.69\n",
      "4      лютий    7.26\n",
      "2  найкращий    3.16\n",
      "7       файл    3.03\n",
      "1     вулиця    2.90\n",
      "6  категорія    2.46\n"
     ]
    }
   ],
   "source": [
    "descriptions('kmeans2', km2.labels_.tolist(), c2)"
   ]
  },
  {
   "cell_type": "markdown",
   "metadata": {},
   "source": [
    "## LDA"
   ]
  },
  {
   "cell_type": "code",
   "execution_count": 11,
   "metadata": {},
   "outputs": [],
   "source": [
    "from sklearn.decomposition import LatentDirichletAllocation\n",
    "lda_model = LatentDirichletAllocation(n_components = k,           # Number of topics\n",
    "                                      max_iter = 20,               # Max learning iterations\n",
    "                                      random_state = 100,          # Random state\n",
    "                                      batch_size = 128,            # n docs in each learning iter\n",
    "                                      evaluate_every = -1,       # compute perplexity every n iters, default: Don't\n",
    "                                      n_jobs = -1,               # Use all available CPUs\n",
    "                                     )\n",
    "lda_output1 = lda_model.fit_transform(tfidf_matrix1)\n",
    "lda_output2 = lda_model.fit_transform(tfidf_matrix2)"
   ]
  },
  {
   "cell_type": "markdown",
   "metadata": {},
   "source": [
    "## LDA K-means"
   ]
  },
  {
   "cell_type": "code",
   "execution_count": 12,
   "metadata": {},
   "outputs": [
    {
     "name": "stdout",
     "output_type": "stream",
     "text": [
      "0.002 0.008 0.008\n"
     ]
    }
   ],
   "source": [
    "# K-means clustering\n",
    "kmLDA1 = KMeans(n_clusters = k).fit(lda_output1)\n",
    "kmLDA2 = KMeans(n_clusters = k).fit(lda_output2)\n",
    "\n",
    "# Comparing Clustering Algorithms\n",
    "metrics(kmLDA1.labels_.tolist(),kmLDA2.labels_.tolist())"
   ]
  },
  {
   "cell_type": "code",
   "execution_count": 34,
   "metadata": {},
   "outputs": [
    {
     "name": "stdout",
     "output_type": "stream",
     "text": [
      "         names  shares\n",
      "2       вулиця   36.06\n",
      "3        право   17.03\n",
      "1    олександр   16.82\n",
      "5         іван   10.89\n",
      "0  неуточнений    5.36\n",
      "4    категорія    4.80\n",
      "7        орден    3.76\n",
      "6         файл    2.98\n",
      "8    найкращий    2.29\n"
     ]
    }
   ],
   "source": [
    "descriptions('kmLDA1', kmLDA1.labels_.tolist(), c1)"
   ]
  },
  {
   "cell_type": "code",
   "execution_count": 35,
   "metadata": {},
   "outputs": [
    {
     "name": "stdout",
     "output_type": "stream",
     "text": [
      "       names  shares\n",
      "5  олександр   42.07\n",
      "1      наука   21.05\n",
      "3   родовище   16.60\n",
      "0  категорія    4.93\n",
      "4       мова    4.19\n",
      "2      лівий    3.93\n",
      "6  категорія    3.16\n",
      "8  категорія    2.25\n",
      "7  північний    1.82\n"
     ]
    }
   ],
   "source": [
    "descriptions('kmLDA2', kmLDA2.labels_.tolist(), c2)"
   ]
  },
  {
   "cell_type": "markdown",
   "metadata": {},
   "source": [
    "## LDA AgglomerativeClustering"
   ]
  },
  {
   "cell_type": "code",
   "execution_count": 13,
   "metadata": {},
   "outputs": [
    {
     "name": "stdout",
     "output_type": "stream",
     "text": [
      "-0.0 0.007 0.007\n"
     ]
    }
   ],
   "source": [
    "from sklearn.cluster import AgglomerativeClustering\n",
    "hc1 = AgglomerativeClustering(n_clusters = k, affinity = 'euclidean', linkage = 'ward').fit_predict(lda_output1)\n",
    "hc2 = AgglomerativeClustering(n_clusters = k, affinity = 'euclidean', linkage = 'ward').fit_predict(lda_output2)\n",
    "\n",
    "# Comparing Clustering Algorithms\n",
    "metrics(hc1,hc2)"
   ]
  },
  {
   "cell_type": "code",
   "execution_count": 36,
   "metadata": {},
   "outputs": [
    {
     "name": "stdout",
     "output_type": "stream",
     "text": [
      "         names  shares\n",
      "3     колишній   32.38\n",
      "1        право   17.47\n",
      "0    категорія   15.95\n",
      "2    олександр   14.44\n",
      "6         іван    7.57\n",
      "4    категорія    3.85\n",
      "5  неуточнений    3.80\n",
      "7         файл    3.37\n",
      "8    найкращий    1.17\n"
     ]
    }
   ],
   "source": [
    "descriptions('hc1', hc1, c1)"
   ]
  },
  {
   "cell_type": "code",
   "execution_count": 37,
   "metadata": {},
   "outputs": [
    {
     "name": "stdout",
     "output_type": "stream",
     "text": [
      "       names  shares\n",
      "7  олександр   31.65\n",
      "2     вулиця   26.46\n",
      "6   родовище   11.85\n",
      "3    міністр    9.60\n",
      "0       мова    7.13\n",
      "1  категорія    5.66\n",
      "4      лівий    2.98\n",
      "8  категорія    2.85\n",
      "5  північний    1.82\n"
     ]
    }
   ],
   "source": [
    "descriptions('hc2', hc2, c2)"
   ]
  },
  {
   "cell_type": "markdown",
   "metadata": {},
   "source": [
    "## HDBSCAN"
   ]
  },
  {
   "cell_type": "code",
   "execution_count": 18,
   "metadata": {},
   "outputs": [
    {
     "name": "stdout",
     "output_type": "stream",
     "text": [
      "-0.025 0.034 0.034\n"
     ]
    }
   ],
   "source": [
    "import hdbscan\n",
    "hdb1 = hdbscan.HDBSCAN(min_cluster_size=10, min_samples=12).fit(tfidf_matrix1)\n",
    "hdb2 = hdbscan.HDBSCAN(min_cluster_size=10, min_samples=12).fit(tfidf_matrix2)\n",
    "\n",
    "# Comparing Clustering Algorithms\n",
    "metrics(hdb1.labels_,hdb2.labels_)"
   ]
  },
  {
   "cell_type": "code",
   "execution_count": 19,
   "metadata": {},
   "outputs": [
    {
     "data": {
      "text/plain": [
       "14"
      ]
     },
     "execution_count": 19,
     "metadata": {},
     "output_type": "execute_result"
    }
   ],
   "source": [
    "len(set(hdb2.labels_))"
   ]
  },
  {
   "cell_type": "code",
   "execution_count": 38,
   "metadata": {},
   "outputs": [
    {
     "name": "stdout",
     "output_type": "stream",
     "text": [
      "         names  shares\n",
      "9    найкращий    2.90\n",
      "3        право    2.12\n",
      "7       епізод    2.12\n",
      "8     іванович    1.43\n",
      "10   категорія    1.08\n",
      "6       вулиця    0.86\n",
      "1        місце    0.69\n",
      "5   фортепіано    0.65\n",
      "12     жовтень    0.61\n",
      "2      дружина    0.52\n",
      "11      європа    0.52\n",
      "0    олександр    0.48\n",
      "4        повіт    0.43\n",
      "13     міністр     NaN\n"
     ]
    }
   ],
   "source": [
    "descriptions('hdb1', hdb1.labels_, c1)"
   ]
  },
  {
   "cell_type": "code",
   "execution_count": 39,
   "metadata": {},
   "outputs": [
    {
     "name": "stdout",
     "output_type": "stream",
     "text": [
      "         names  shares\n",
      "11    виставка    2.33\n",
      "9         файл    2.12\n",
      "10    іванович    1.64\n",
      "12   категорія    1.47\n",
      "3      дружина    0.91\n",
      "6       епізод    0.91\n",
      "4    сільський    0.82\n",
      "8         полк    0.78\n",
      "0         мова    0.65\n",
      "2   фортепіано    0.65\n",
      "5        лівий    0.52\n",
      "1    північний    0.48\n",
      "7       вулиця    0.48\n",
      "13   найкращий     NaN\n"
     ]
    }
   ],
   "source": [
    "descriptions('hdb2', hdb2.labels_, c2)"
   ]
  }
 ],
 "metadata": {
  "kernelspec": {
   "display_name": "Python 3 (ipykernel)",
   "language": "python",
   "name": "python3"
  },
  "language_info": {
   "codemirror_mode": {
    "name": "ipython",
    "version": 3
   },
   "file_extension": ".py",
   "mimetype": "text/x-python",
   "name": "python",
   "nbconvert_exporter": "python",
   "pygments_lexer": "ipython3",
   "version": "3.8.11"
  }
 },
 "nbformat": 4,
 "nbformat_minor": 4
}
